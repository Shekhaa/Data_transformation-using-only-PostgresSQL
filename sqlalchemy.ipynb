{
 "cells": [
  {
   "cell_type": "markdown",
   "metadata": {},
   "source": [
    "imort libraries and make connections"
   ]
  },
  {
   "cell_type": "code",
   "execution_count": 16,
   "metadata": {},
   "outputs": [
    {
     "name": "stdout",
     "output_type": "stream",
     "text": [
      "Connected to PostgreSQL database!\n",
      "done\n"
     ]
    }
   ],
   "source": [
    "\n",
    "import pandas as pd\n",
    "from sqlalchemy import create_engine\n",
    "\n",
    "\n",
    "hostname = 'localhost'\n",
    "database = 'MasterDb'\n",
    "username = 'postgres'\n",
    "password = '1234'\n",
    "port = '5432'\n",
    "\n",
    "\n",
    "\n",
    "hostname = 'localhost'\n",
    "database = 'MasterDb'\n",
    "username = 'postgres'\n",
    "password = '1234'\n",
    "port = '5432'\n",
    "\n",
    "\n",
    "engine = create_engine(f'postgresql+psycopg2://{username}:{password}@{hostname}:{port}/{database}')\n",
    "\n",
    "\n",
    "with engine.connect() as conn:\n",
    "    print(\"Connected to PostgreSQL database!\")\n",
    "\n",
    "\n",
    "print('done')\n"
   ]
  },
  {
   "cell_type": "markdown",
   "metadata": {},
   "source": [
    "Get_data "
   ]
  },
  {
   "cell_type": "code",
   "execution_count": 5,
   "metadata": {},
   "outputs": [
    {
     "name": "stdout",
     "output_type": "stream",
     "text": [
      "    record  Q1  q2  q4  q4.1  q5  q6  q7\n",
      "0    41970   7   1  10     2   2   1  10\n",
      "1    41973   4   6   5     7   5   6   5\n",
      "2    41971   3   8  10     8  10   8  10\n",
      "3    41972   6   3   7     7   2   3   7\n",
      "4    41975   5  10   3    10   3  10   3\n",
      "5    41974   3   1   6     9   4   1   6\n",
      "6    41977   2   6   7     7   7   6   7\n",
      "7    41976  10   8   6     9   7   8   6\n",
      "8    41978   3   7   5     7   7   7   5\n",
      "9    41979   5   9   7     4   3   9   7\n",
      "10   41980   5   4  10     3   3   4  10\n",
      "11   41981  10  10   3    10   3  10   3\n",
      "12   41982  10   1   6     1   3   1   6\n"
     ]
    }
   ],
   "source": [
    "# Read excel data of disney\n",
    "\n",
    "data=pd.read_csv('src/Book1.csv')\n",
    "print(data)"
   ]
  },
  {
   "cell_type": "markdown",
   "metadata": {},
   "source": [
    "now add a new schema for that add that meta data colum that is having the name of columns"
   ]
  },
  {
   "cell_type": "code",
   "execution_count": 7,
   "metadata": {},
   "outputs": [
    {
     "name": "stdout",
     "output_type": "stream",
     "text": [
      "['Q11', 'Q12', 'Q13', 'Q14', 'Q15', 'Q16', 'Q17']\n"
     ]
    }
   ],
   "source": [
    "# now add a new schema for that add that meta data colum that is having the name of columns\n",
    "\n",
    "columns_data=pd.read_csv('src/Meta_data.csv')\n",
    "# print(columns_data)\n",
    "\n",
    "columns2=columns_data['Columns_2'].to_list()\n",
    "\n",
    "print(columns2)"
   ]
  },
  {
   "cell_type": "code",
   "execution_count": 9,
   "metadata": {},
   "outputs": [
    {
     "name": "stdout",
     "output_type": "stream",
     "text": [
      "    record  Q1  q2  q4  q4.1  q5  q6  q7\n",
      "0    41970   7   1  10     2   2   1  10\n",
      "1    41973   4   6   5     7   5   6   5\n",
      "2    41971   3   8  10     8  10   8  10\n",
      "3    41972   6   3   7     7   2   3   7\n",
      "4    41975   5  10   3    10   3  10   3\n",
      "5    41974   3   1   6     9   4   1   6\n",
      "6    41977   2   6   7     7   7   6   7\n",
      "7    41976  10   8   6     9   7   8   6\n",
      "8    41978   3   7   5     7   7   7   5\n",
      "9    41979   5   9   7     4   3   9   7\n",
      "10   41980   5   4  10     3   3   4  10\n",
      "11   41981  10  10   3    10   3  10   3\n",
      "12   41982  10   1   6     1   3   1   6\n"
     ]
    }
   ],
   "source": [
    "table_name=\"survey_data\"\n",
    "\n",
    "# Load data from the existing table into a pandas DataFrame\n",
    "query = f'SELECT * FROM {table_name};'\n",
    "df = pd.read_sql(query, engine)\n",
    "\n",
    "# Print the DataFrame\n",
    "print(df)\n"
   ]
  },
  {
   "cell_type": "markdown",
   "metadata": {},
   "source": [
    "Add new column from your database and alter its values"
   ]
  },
  {
   "cell_type": "code",
   "execution_count": 21,
   "metadata": {},
   "outputs": [
    {
     "name": "stdout",
     "output_type": "stream",
     "text": [
      "Timestamp_for_Q17\n"
     ]
    }
   ],
   "source": []
  },
  {
   "cell_type": "code",
   "execution_count": 33,
   "metadata": {},
   "outputs": [
    {
     "name": "stdout",
     "output_type": "stream",
     "text": [
      "    record  Q1  q2  q4  q4.1  q5  q6  q7  Q11  Q12  Q13  Q14  Q15  Q16  Q17  \\\n",
      "0    41970   7   1  10     2   2   1  10    0    0    0    0    0    0    0   \n",
      "1    41973   4   6   5     7   5   6   5    0    0    0    0    0    0    0   \n",
      "2    41971   3   8  10     8  10   8  10    0    0    0    0    0    0    0   \n",
      "3    41972   6   3   7     7   2   3   7    0    0    0    0    0    0    0   \n",
      "4    41975   5  10   3    10   3  10   3    0    0    0    0    0    0    0   \n",
      "5    41974   3   1   6     9   4   1   6    0    0    0    0    0    0    0   \n",
      "6    41977   2   6   7     7   7   6   7    0    0    0    0    0    0    0   \n",
      "7    41976  10   8   6     9   7   8   6    0    0    0    0    0    0    0   \n",
      "8    41978   3   7   5     7   7   7   5    0    0    0    0    0    0    0   \n",
      "9    41979   5   9   7     4   3   9   7    0    0    0    0    0    0    0   \n",
      "10   41980   5   4  10     3   3   4  10    0    0    0    0    0    0    0   \n",
      "11   41981  10  10   3    10   3  10   3    0    0    0    0    0    0    0   \n",
      "12   41982  10   1   6     1   3   1   6    0    0    0    0    0    0    0   \n",
      "\n",
      "         Timestamp Q11 to Q17  \n",
      "0  2024-10-16 17:29:37.369920  \n",
      "1  2024-10-16 17:29:37.369920  \n",
      "2  2024-10-16 17:29:37.369920  \n",
      "3  2024-10-16 17:29:37.369920  \n",
      "4  2024-10-16 17:29:37.369920  \n",
      "5  2024-10-16 17:29:37.369920  \n",
      "6  2024-10-16 17:29:37.369920  \n",
      "7  2024-10-16 17:29:37.369920  \n",
      "8  2024-10-16 17:29:37.369920  \n",
      "9  2024-10-16 17:29:37.369920  \n",
      "10 2024-10-16 17:29:37.369920  \n",
      "11 2024-10-16 17:29:37.369920  \n",
      "12 2024-10-16 17:29:37.369920  \n"
     ]
    }
   ],
   "source": [
    "timestamps='Timestamp '+columns2[0]+' to '+columns2[-1]\n",
    "# print(timestamp)\n",
    "for cols in columns2:\n",
    "    df[cols]=0\n",
    "    df[timestamps]=pd.Timestamp.now()\n",
    "df=df.drop('TimestampQ11toQ17',axis=1)\n",
    "print(df)    "
   ]
  },
  {
   "cell_type": "code",
   "execution_count": 34,
   "metadata": {},
   "outputs": [
    {
     "name": "stdout",
     "output_type": "stream",
     "text": [
      "done\n"
     ]
    }
   ],
   "source": [
    "df.to_sql('survey_data',engine,if_exists='replace',index=False)\n",
    "print('done')"
   ]
  }
 ],
 "metadata": {
  "kernelspec": {
   "display_name": "pyspark_env",
   "language": "python",
   "name": "python3"
  },
  "language_info": {
   "codemirror_mode": {
    "name": "ipython",
    "version": 3
   },
   "file_extension": ".py",
   "mimetype": "text/x-python",
   "name": "python",
   "nbconvert_exporter": "python",
   "pygments_lexer": "ipython3",
   "version": "3.6.7"
  }
 },
 "nbformat": 4,
 "nbformat_minor": 2
}
