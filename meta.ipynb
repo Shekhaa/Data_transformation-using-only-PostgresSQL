{
 "cells": [
  {
   "cell_type": "code",
   "execution_count": 44,
   "id": "597cda01-9992-47dc-a899-88e45288faa0",
   "metadata": {},
   "outputs": [],
   "source": [
    "import pandas as pd\n",
    "import psycopg2"
   ]
  },
  {
   "cell_type": "code",
   "execution_count": 41,
   "id": "e9ae7142-4fe7-4b49-906c-1d9dbc99f332",
   "metadata": {},
   "outputs": [
    {
     "name": "stdout",
     "output_type": "stream",
     "text": [
      "/n ['Q1', 'q2', 'q3', 'q4', 'q5', 'q6', 'q7'] \n"
     ]
    }
   ],
   "source": [
    "# Read the file from folder\n",
    "csv=pd.read_csv('src/meta_data.csv')\n",
    "\n",
    "lists=csv['Columns'].to_list()\n",
    "print(\"/n\",lists,'')"
   ]
  },
  {
   "cell_type": "markdown",
   "id": "a69bbe9e-6f4d-4767-a501-e87bb7d52fda",
   "metadata": {},
   "source": [
    "Read the colum from other table"
   ]
  },
  {
   "cell_type": "code",
   "execution_count": 42,
   "id": "8c37c116-a2f8-47e2-a460-4cb63a525514",
   "metadata": {},
   "outputs": [
    {
     "name": "stdout",
     "output_type": "stream",
     "text": [
      "['Q11', 'Q12', 'Q13', 'Q14', 'Q15', 'Q16', 'Q17']\n"
     ]
    }
   ],
   "source": [
    "lists2=csv['Columns_2'].to_list()\n",
    "print(lists2)"
   ]
  },
  {
   "cell_type": "markdown",
   "id": "cbcbceb7-2ca8-4e3f-80db-6218d9cf31d2",
   "metadata": {},
   "source": [
    "Add both of lists to make one column"
   ]
  },
  {
   "cell_type": "code",
   "execution_count": 43,
   "id": "8e0f84c1-6b59-4156-8fa2-a509a1a6d9a8",
   "metadata": {},
   "outputs": [
    {
     "name": "stdout",
     "output_type": "stream",
     "text": [
      "['Q1', 'q2', 'q3', 'q4', 'q5', 'q6', 'q7', 'Q11', 'Q12', 'Q13', 'Q14', 'Q15', 'Q16', 'Q17']\n"
     ]
    }
   ],
   "source": [
    "listt=lists+lists2\n",
    "print(listt)"
   ]
  },
  {
   "cell_type": "code",
   "execution_count": 49,
   "id": "ae3c7651-f570-4075-95c3-b01333f51488",
   "metadata": {},
   "outputs": [],
   "source": [
    "# make a connection of postgres using psycopg2 \n",
    "conn=psycopg2.connect(host=\"localhost\",database=\"MasterDb\",user=\"postgres\",password=\"1234\",port=\"5432\")\n"
   ]
  },
  {
   "cell_type": "code",
   "execution_count": null,
   "id": "43cafeb0-361e-453d-8765-661b5673335c",
   "metadata": {},
   "outputs": [],
   "source": []
  }
 ],
 "metadata": {
  "kernelspec": {
   "display_name": "Python 3",
   "language": "python",
   "name": "python3"
  },
  "language_info": {
   "codemirror_mode": {
    "name": "ipython",
    "version": 3
   },
   "file_extension": ".py",
   "mimetype": "text/x-python",
   "name": "python",
   "nbconvert_exporter": "python",
   "pygments_lexer": "ipython3",
   "version": "3.6.7"
  }
 },
 "nbformat": 4,
 "nbformat_minor": 5
}
